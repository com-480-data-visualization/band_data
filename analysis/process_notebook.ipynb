{
 "cells": [
  {
   "cell_type": "code",
   "id": "initial_id",
   "metadata": {
    "collapsed": true,
    "ExecuteTime": {
     "end_time": "2025-05-19T12:48:56.989868Z",
     "start_time": "2025-05-19T12:48:56.987412Z"
    }
   },
   "source": [
    "import pandas as pd\n",
    "import matplotlib.pyplot as plt\n",
    "import seaborn as sns\n",
    "import numpy as np\n",
    "from pandas.api.types import CategoricalDtype"
   ],
   "outputs": [],
   "execution_count": 1
  },
  {
   "metadata": {
    "ExecuteTime": {
     "end_time": "2025-05-19T12:48:57.746869Z",
     "start_time": "2025-05-19T12:48:57.009982Z"
    }
   },
   "cell_type": "code",
   "source": [
    "men_matches = pd.read_csv('../data/all_matches_atp.csv')\n",
    "men_matches = pd.DataFrame(men_matches)\n",
    "men_matches.drop(men_matches.columns[0], axis=1, inplace=True)\n",
    "\n",
    "women_matches = pd.read_csv('../data/all_matches_wta.csv')\n",
    "women_matches = pd.DataFrame(women_matches)\n",
    "women_matches.drop(women_matches.columns[0], axis=1, inplace=True)"
   ],
   "id": "511cf800c5ad9ec3",
   "outputs": [
    {
     "name": "stderr",
     "output_type": "stream",
     "text": [
      "/var/folders/d3/9chl4s4x2w1dxn5y2k9m88fc0000gn/T/ipykernel_9312/3778916847.py:5: DtypeWarning: Columns (8,16) have mixed types. Specify dtype option on import or set low_memory=False.\n",
      "  women_matches = pd.read_csv('../data/all_matches_wta.csv')\n"
     ]
    }
   ],
   "execution_count": 2
  },
  {
   "metadata": {
    "ExecuteTime": {
     "end_time": "2025-05-19T12:48:58.611182Z",
     "start_time": "2025-05-19T12:48:57.879211Z"
    }
   },
   "cell_type": "code",
   "source": [
    "atp_players = pd.read_csv('../data/tennis_atp/atp_players.csv')\n",
    "atp_players['player_name'] = atp_players.apply(lambda row: str(row['name_first']) + \" \" + str(row['name_last']), axis=1)\n",
    "wta_players = pd.read_csv('../data/tennis_wta/wta_players.csv')\n",
    "wta_players['player_name'] = wta_players.apply(lambda row: str(row['name_first']) + \" \" + str(row['name_last']), axis=1)"
   ],
   "id": "a567e92dda5fae69",
   "outputs": [
    {
     "name": "stderr",
     "output_type": "stream",
     "text": [
      "/var/folders/d3/9chl4s4x2w1dxn5y2k9m88fc0000gn/T/ipykernel_9312/3930491513.py:1: DtypeWarning: Columns (7) have mixed types. Specify dtype option on import or set low_memory=False.\n",
      "  atp_players = pd.read_csv('../data/tennis_atp/atp_players.csv')\n",
      "/var/folders/d3/9chl4s4x2w1dxn5y2k9m88fc0000gn/T/ipykernel_9312/3930491513.py:3: DtypeWarning: Columns (7) have mixed types. Specify dtype option on import or set low_memory=False.\n",
      "  wta_players = pd.read_csv('../data/tennis_wta/wta_players.csv')\n"
     ]
    }
   ],
   "execution_count": 3
  },
  {
   "metadata": {
    "ExecuteTime": {
     "end_time": "2025-05-19T12:48:58.641968Z",
     "start_time": "2025-05-19T12:48:58.626651Z"
    }
   },
   "cell_type": "code",
   "source": [
    "def map_tourney_level_wta(tourney_level):\n",
    "    if tourney_level == 'T1':\n",
    "        return 'PM'\n",
    "    elif tourney_level == 'T2':\n",
    "        return 'P'\n",
    "    else:\n",
    "        return tourney_level\n",
    "\n",
    "women_matches['tourney_level'] = women_matches['tourney_level'].map(map_tourney_level_wta)"
   ],
   "id": "72985aedc523f865",
   "outputs": [],
   "execution_count": 4
  },
  {
   "metadata": {
    "ExecuteTime": {
     "end_time": "2025-05-19T12:48:58.659461Z",
     "start_time": "2025-05-19T12:48:58.656651Z"
    }
   },
   "cell_type": "code",
   "source": [
    "def filter_matches(df):\n",
    "    return df[df['tourney_level'].isin(['A', 'G', 'M', 'F', 'PM', 'P'])]\n",
    "    "
   ],
   "id": "3772b1d000263ca7",
   "outputs": [],
   "execution_count": 5
  },
  {
   "metadata": {
    "ExecuteTime": {
     "end_time": "2025-05-19T12:48:58.719236Z",
     "start_time": "2025-05-19T12:48:58.674454Z"
    }
   },
   "cell_type": "code",
   "source": [
    "men_matches = filter_matches(men_matches)\n",
    "women_matches = filter_matches(women_matches)"
   ],
   "id": "ed5e9c32b3ba1eba",
   "outputs": [],
   "execution_count": 6
  },
  {
   "metadata": {
    "ExecuteTime": {
     "end_time": "2025-05-19T12:48:58.799740Z",
     "start_time": "2025-05-19T12:48:58.737919Z"
    }
   },
   "cell_type": "code",
   "source": [
    "def get_decade(year):\n",
    "    if str(year)[2] == '9':\n",
    "        return '90s'\n",
    "    elif str(year)[2] == '0':\n",
    "        return '00s'\n",
    "    elif str(year)[2] == '1':\n",
    "        return '10s'\n",
    "    elif str(year)[2] == '2':\n",
    "        return '20s'\n",
    "    else:\n",
    "        return np.nan\n",
    "    \n",
    "def set_dates(df):\n",
    "    df['tourney_date'] = pd.to_datetime(df['tourney_date'], format='%Y%m%d')\n",
    "    df['tourney_year'] = df.tourney_date.dt.year\n",
    "    df['decade'] = df['tourney_year'].apply(get_decade)\n",
    "    return df \n",
    "\n",
    "men_matches = set_dates(men_matches)\n",
    "women_matches = set_dates(women_matches)"
   ],
   "id": "96855fee16e0c5dd",
   "outputs": [],
   "execution_count": 7
  },
  {
   "metadata": {
    "ExecuteTime": {
     "end_time": "2025-05-19T15:03:01.727043Z",
     "start_time": "2025-05-19T15:03:01.720858Z"
    }
   },
   "cell_type": "code",
   "source": [
    "def get_player_name(row):\n",
    "    if row['winner_name'] is not np.nan:\n",
    "        return row['winner_name']\n",
    "    else:\n",
    "        return row['loser_name']\n",
    "\n",
    "def get_match_counts_player(df, conditions=None):\n",
    "    if conditions is None:\n",
    "        groupByList = []\n",
    "    else:\n",
    "        groupByList = conditions\n",
    "    won = (df.groupby(['winner_id','winner_name'] + groupByList).size().reset_index(name='matches_won')\n",
    "           .rename(columns={'winner_name': 'player_name', 'winner_id':'player_id'}))\n",
    "    lost = (df.groupby(['loser_id','loser_name'] + groupByList).size().reset_index(name='matches_lost')\n",
    "            .rename(columns={'loser_name': 'player_name', 'loser_id': 'player_id'}))\n",
    "    total = (pd.merge(left=won, right=lost, how='outer', on=['player_id', 'player_name'] + groupByList)\n",
    "                                   .fillna({'matches_won': 0, 'matches_lost': 0}))\n",
    "    return total"
   ],
   "id": "223d6fc4af91d347",
   "outputs": [],
   "execution_count": 13
  },
  {
   "metadata": {
    "ExecuteTime": {
     "end_time": "2025-05-18T14:53:27.829122Z",
     "start_time": "2025-05-18T14:53:27.825560Z"
    }
   },
   "cell_type": "code",
   "source": [
    "def get_titles(df, tourney_levels):\n",
    "    rename_dict = {x:x+'_titles' for x in tourney_levels}\n",
    "    rename_dict['winner_name'] = 'player_name'\n",
    "    rename_dict['winner_id'] = 'player_id'\n",
    "    return df[df['round'] == 'F'].groupby(['winner_id','winner_name', 'tourney_level']).size().reset_index(name='count').pivot(columns='tourney_level', values='count', index=['winner_id', 'winner_name']).reset_index().fillna(0).rename(columns=rename_dict)"
   ],
   "id": "c7384c7bb71382c",
   "outputs": [],
   "execution_count": 163
  },
  {
   "metadata": {
    "ExecuteTime": {
     "end_time": "2025-05-18T16:04:04.731080Z",
     "start_time": "2025-05-18T16:04:04.727459Z"
    }
   },
   "cell_type": "code",
   "source": [
    "def get_career_years(df):\n",
    "    return pd.concat(\n",
    "        [\n",
    "            df.groupby(['winner_id','winner_name']).agg(earliest=('tourney_year', 'min'), latest=('tourney_year', 'max')).reset_index().rename(columns={'winner_name': 'player_name', 'winner_id':'player_id'}),\n",
    "            df.groupby(['loser_id','loser_name']).agg(earliest=('tourney_year', 'min'), latest=('tourney_year', 'max')).reset_index().rename(columns={'loser_name':'player_name', 'loser_id':'player_id'})\n",
    "        ],\n",
    "        axis=0 \n",
    "    ).groupby(['player_id','player_name']).agg(career_start=('earliest', 'min'), career_end=('latest', 'max')).reset_index()"
   ],
   "id": "bee50f95e4151e3a",
   "outputs": [],
   "execution_count": 252
  },
  {
   "metadata": {
    "ExecuteTime": {
     "end_time": "2025-05-18T16:04:13.055335Z",
     "start_time": "2025-05-18T16:04:13.051647Z"
    }
   },
   "cell_type": "code",
   "source": [
    "def get_player_profiles(match_df, player_df):\n",
    "    match_counts = get_match_counts_player(match_df)\n",
    "    match_counts['win_rate'] = match_counts['matches_won'] / (match_counts['matches_lost'] + match_counts['matches_won'])\n",
    "    titles = get_titles(match_df, match_df.tourney_level.unique().tolist())\n",
    "    career_years = get_career_years(match_df)\n",
    "    player_data = player_df[['player_id', 'hand','dob','ioc','height']]\n",
    "    return pd.merge(\n",
    "        pd.merge(\n",
    "            pd.merge(\n",
    "                match_counts, \n",
    "                titles,\n",
    "                on=['player_id', 'player_name'],\n",
    "                how='left'\n",
    "            ).fillna(0), \n",
    "            career_years,\n",
    "            on=['player_id', 'player_name'],\n",
    "        ),\n",
    "        player_data,\n",
    "        on='player_id'\n",
    "    )"
   ],
   "id": "d0a4a4fd25d956d2",
   "outputs": [],
   "execution_count": 254
  },
  {
   "metadata": {
    "ExecuteTime": {
     "end_time": "2025-05-18T16:04:14.203807Z",
     "start_time": "2025-05-18T16:04:14.106969Z"
    }
   },
   "cell_type": "code",
   "source": [
    "get_player_profiles(men_matches, atp_players).to_csv('../data/atp_player_profile.csv')\n",
    "get_player_profiles(women_matches, wta_players).to_csv('../data/wta_player_profile.csv')"
   ],
   "id": "8e9593f70341e7b9",
   "outputs": [],
   "execution_count": 255
  },
  {
   "metadata": {
    "ExecuteTime": {
     "end_time": "2025-05-19T15:22:05.058551Z",
     "start_time": "2025-05-19T15:22:05.052552Z"
    }
   },
   "cell_type": "code",
   "source": [
    "def get_avg_rank_player(match_df):\n",
    "    player_matches = pd.concat(\n",
    "                    [\n",
    "                        match_df[['winner_id', 'winner_name', 'tourney_level', 'surface', 'decade', 'winner_rank']].rename(\n",
    "                            columns={'winner_name': 'player_name', 'winner_rank': 'rank', 'winner_id':'player_id'}),\n",
    "                         match_df[['loser_id', 'loser_name', 'tourney_level', 'surface', 'decade', 'loser_rank']].rename(\n",
    "                             columns={'loser_name': 'player_name', 'loser_rank': 'rank', 'loser_id': 'player_id'})\n",
    "                    ],\n",
    "                    ignore_index=True\n",
    "                )\n",
    "    ranks_surf_tourney = player_matches.groupby(['player_id', 'player_name', 'tourney_level', 'surface', 'decade']).agg(avg_rank=('rank', 'mean')).reset_index()\n",
    "    ranks_surf = player_matches.groupby(['player_id', 'player_name', 'surface', 'decade']).agg(avg_rank=('rank', 'mean')).reset_index()\n",
    "    ranks_surf['tourney_level'] = 'All'\n",
    "    ranks_tourney = player_matches.groupby(['player_id', 'player_name', 'tourney_level', 'decade']).agg(avg_rank=('rank', 'mean')).reset_index()\n",
    "    ranks_tourney['surface'] = 'All'\n",
    "    ranks_all = player_matches.groupby(['player_id', 'player_name', 'decade']).agg(avg_rank=('rank', 'mean')).reset_index()\n",
    "    ranks_all['surface'] = 'All'\n",
    "    ranks_all['tourney_level'] = 'All'\n",
    "    \n",
    "    return pd.concat(\n",
    "        [\n",
    "            ranks_surf_tourney[['player_id', 'player_name', 'decade', 'tourney_level', 'surface', 'avg_rank']],\n",
    "            ranks_surf[['player_id', 'player_name', 'decade', 'tourney_level', 'surface', 'avg_rank']],\n",
    "            ranks_tourney[['player_id', 'player_name', 'decade', 'tourney_level', 'surface', 'avg_rank']],\n",
    "            ranks_all[['player_id', 'player_name', 'decade', 'tourney_level', 'surface', 'avg_rank']],\n",
    "        ],\n",
    "        axis = 0,\n",
    "        ignore_index=True\n",
    "    )"
   ],
   "id": "d5c311b36e297192",
   "outputs": [],
   "execution_count": 47
  },
  {
   "metadata": {
    "ExecuteTime": {
     "end_time": "2025-05-19T15:21:38.087417Z",
     "start_time": "2025-05-19T15:21:37.918061Z"
    }
   },
   "cell_type": "code",
   "source": "match_df = men_matches\n",
   "id": "213798336aaee768",
   "outputs": [
    {
     "data": {
      "text/plain": [
       "       player_id       player_name decade tourney_level surface     avg_rank\n",
       "0         100282   Guillermo Vilas    90s             A    Clay   427.000000\n",
       "1         100284     Jimmy Connors    90s             A  Carpet   443.200000\n",
       "2         100284     Jimmy Connors    90s             A    Clay   362.777778\n",
       "3         100284     Jimmy Connors    90s             A   Grass          NaN\n",
       "4         100284     Jimmy Connors    90s             A    Hard   142.282051\n",
       "...          ...               ...    ...           ...     ...          ...\n",
       "30337     212021  Martin Landaluce    20s           All     All   497.333333\n",
       "30338     212044           Yi Zhou    20s           All     All   599.428571\n",
       "30339     212063       Matej Dodig    20s           All     All   310.000000\n",
       "30340     212082  Joel Schwaerzler    20s           All     All   369.500000\n",
       "30341     212733    Matthew Forbes    20s           All     All  1848.000000\n",
       "\n",
       "[30342 rows x 6 columns]"
      ],
      "text/html": [
       "<div>\n",
       "<style scoped>\n",
       "    .dataframe tbody tr th:only-of-type {\n",
       "        vertical-align: middle;\n",
       "    }\n",
       "\n",
       "    .dataframe tbody tr th {\n",
       "        vertical-align: top;\n",
       "    }\n",
       "\n",
       "    .dataframe thead th {\n",
       "        text-align: right;\n",
       "    }\n",
       "</style>\n",
       "<table border=\"1\" class=\"dataframe\">\n",
       "  <thead>\n",
       "    <tr style=\"text-align: right;\">\n",
       "      <th></th>\n",
       "      <th>player_id</th>\n",
       "      <th>player_name</th>\n",
       "      <th>decade</th>\n",
       "      <th>tourney_level</th>\n",
       "      <th>surface</th>\n",
       "      <th>avg_rank</th>\n",
       "    </tr>\n",
       "  </thead>\n",
       "  <tbody>\n",
       "    <tr>\n",
       "      <th>0</th>\n",
       "      <td>100282</td>\n",
       "      <td>Guillermo Vilas</td>\n",
       "      <td>90s</td>\n",
       "      <td>A</td>\n",
       "      <td>Clay</td>\n",
       "      <td>427.000000</td>\n",
       "    </tr>\n",
       "    <tr>\n",
       "      <th>1</th>\n",
       "      <td>100284</td>\n",
       "      <td>Jimmy Connors</td>\n",
       "      <td>90s</td>\n",
       "      <td>A</td>\n",
       "      <td>Carpet</td>\n",
       "      <td>443.200000</td>\n",
       "    </tr>\n",
       "    <tr>\n",
       "      <th>2</th>\n",
       "      <td>100284</td>\n",
       "      <td>Jimmy Connors</td>\n",
       "      <td>90s</td>\n",
       "      <td>A</td>\n",
       "      <td>Clay</td>\n",
       "      <td>362.777778</td>\n",
       "    </tr>\n",
       "    <tr>\n",
       "      <th>3</th>\n",
       "      <td>100284</td>\n",
       "      <td>Jimmy Connors</td>\n",
       "      <td>90s</td>\n",
       "      <td>A</td>\n",
       "      <td>Grass</td>\n",
       "      <td>NaN</td>\n",
       "    </tr>\n",
       "    <tr>\n",
       "      <th>4</th>\n",
       "      <td>100284</td>\n",
       "      <td>Jimmy Connors</td>\n",
       "      <td>90s</td>\n",
       "      <td>A</td>\n",
       "      <td>Hard</td>\n",
       "      <td>142.282051</td>\n",
       "    </tr>\n",
       "    <tr>\n",
       "      <th>...</th>\n",
       "      <td>...</td>\n",
       "      <td>...</td>\n",
       "      <td>...</td>\n",
       "      <td>...</td>\n",
       "      <td>...</td>\n",
       "      <td>...</td>\n",
       "    </tr>\n",
       "    <tr>\n",
       "      <th>30337</th>\n",
       "      <td>212021</td>\n",
       "      <td>Martin Landaluce</td>\n",
       "      <td>20s</td>\n",
       "      <td>All</td>\n",
       "      <td>All</td>\n",
       "      <td>497.333333</td>\n",
       "    </tr>\n",
       "    <tr>\n",
       "      <th>30338</th>\n",
       "      <td>212044</td>\n",
       "      <td>Yi Zhou</td>\n",
       "      <td>20s</td>\n",
       "      <td>All</td>\n",
       "      <td>All</td>\n",
       "      <td>599.428571</td>\n",
       "    </tr>\n",
       "    <tr>\n",
       "      <th>30339</th>\n",
       "      <td>212063</td>\n",
       "      <td>Matej Dodig</td>\n",
       "      <td>20s</td>\n",
       "      <td>All</td>\n",
       "      <td>All</td>\n",
       "      <td>310.000000</td>\n",
       "    </tr>\n",
       "    <tr>\n",
       "      <th>30340</th>\n",
       "      <td>212082</td>\n",
       "      <td>Joel Schwaerzler</td>\n",
       "      <td>20s</td>\n",
       "      <td>All</td>\n",
       "      <td>All</td>\n",
       "      <td>369.500000</td>\n",
       "    </tr>\n",
       "    <tr>\n",
       "      <th>30341</th>\n",
       "      <td>212733</td>\n",
       "      <td>Matthew Forbes</td>\n",
       "      <td>20s</td>\n",
       "      <td>All</td>\n",
       "      <td>All</td>\n",
       "      <td>1848.000000</td>\n",
       "    </tr>\n",
       "  </tbody>\n",
       "</table>\n",
       "<p>30342 rows × 6 columns</p>\n",
       "</div>"
      ]
     },
     "execution_count": 46,
     "metadata": {},
     "output_type": "execute_result"
    }
   ],
   "execution_count": 46
  },
  {
   "metadata": {
    "ExecuteTime": {
     "end_time": "2025-05-19T15:02:54.026175Z",
     "start_time": "2025-05-19T15:02:54.023468Z"
    }
   },
   "cell_type": "code",
   "source": [
    "def compute_score(row):\n",
    "    num_played = row['matches_won'] + row['matches_lost']\n",
    "    score = np.log(num_played + 1)\n",
    "    score *= row['win_rate']\n",
    "    score *= 1 / (np.log(row['avg_rank'] + np.e))\n",
    "    return score\n"
   ],
   "id": "393231384e16d8e7",
   "outputs": [],
   "execution_count": 12
  },
  {
   "metadata": {
    "ExecuteTime": {
     "end_time": "2025-05-19T15:25:14.938508Z",
     "start_time": "2025-05-19T15:25:14.932850Z"
    }
   },
   "cell_type": "code",
   "source": [
    "def get_filter_player_data(match_df, player_df):\n",
    "    match_counts = get_match_counts_player(match_df, ['tourney_level', 'surface', 'decade'])\n",
    "    match_counts_all = get_match_counts_player(match_df, ['decade'])\n",
    "    match_counts_all['surface'] = 'All'\n",
    "    match_counts_all['tourney_level'] = 'All'\n",
    "    match_counts_all_surfaces = get_match_counts_player(match_df, ['decade', 'tourney_level'])\n",
    "    match_counts_all_surfaces['surface'] = 'All'\n",
    "    match_counts_all_tourneys = get_match_counts_player(match_df, ['decade', 'surface'])\n",
    "    match_counts_all_tourneys['tourney_level'] = 'All'\n",
    "    match_counts = pd.concat(\n",
    "        [\n",
    "            match_counts[['player_id', 'player_name', 'tourney_level', 'surface','decade', 'matches_won', 'matches_lost']],\n",
    "            match_counts_all[['player_id', 'player_name', 'tourney_level', 'surface','decade', 'matches_won', 'matches_lost']], \n",
    "            match_counts_all_tourneys[['player_id', 'player_name', 'tourney_level', 'surface','decade', 'matches_won', 'matches_lost']],\n",
    "            match_counts_all_surfaces[['player_id', 'player_name', 'tourney_level', 'surface','decade', 'matches_won', 'matches_lost']]\n",
    "        ],\n",
    "        axis=0,\n",
    "        ignore_index=True\n",
    "    )\n",
    "    match_counts['win_rate'] = match_counts['matches_won'] / (match_counts['matches_lost'] + match_counts['matches_won'])\n",
    "    player_data = pd.merge(match_counts, player_df[['player_id', 'player_name','hand','ioc']], on=['player_id', 'player_name'])\n",
    "    avg_rank = get_avg_rank_player(match_df)\n",
    "    player_data = pd.merge(player_data, avg_rank, on=['player_id','player_name', 'tourney_level', 'surface', 'decade'], how='left')\n",
    "    player_data['score'] = player_data.apply(compute_score, axis=1)\n",
    "    player_data.dropna(subset=['score'], inplace=True)\n",
    "    return player_data"
   ],
   "id": "5d02e2cdb7ea4f21",
   "outputs": [],
   "execution_count": 54
  },
  {
   "metadata": {
    "ExecuteTime": {
     "end_time": "2025-05-19T15:27:02.537627Z",
     "start_time": "2025-05-19T15:27:01.281761Z"
    }
   },
   "cell_type": "code",
   "source": [
    "get_filter_player_data(men_matches,atp_players).to_csv('../data/atp_filter_player_data.csv')\n",
    "get_filter_player_data(women_matches,wta_players).to_csv('../data/wta_filter_player_data.csv')"
   ],
   "id": "1077dc1c6b2512f",
   "outputs": [],
   "execution_count": 59
  },
  {
   "metadata": {
    "ExecuteTime": {
     "end_time": "2025-05-18T15:07:14.401739Z",
     "start_time": "2025-05-18T15:07:14.398829Z"
    }
   },
   "cell_type": "code",
   "source": [
    "def surface_win_rates(match_df):\n",
    "    match_counts = get_match_counts_player(match_df, ['surface'])\n",
    "    match_counts['win_rate'] = match_counts.apply(lambda row: row['matches_won'] / (row['matches_won'] + row['matches_lost']) * 100, axis=1)\n",
    "    return match_counts"
   ],
   "id": "cd42630eabb5dd75",
   "outputs": [],
   "execution_count": 191
  },
  {
   "metadata": {
    "ExecuteTime": {
     "end_time": "2025-05-18T15:30:48.422814Z",
     "start_time": "2025-05-18T15:30:48.339586Z"
    }
   },
   "cell_type": "code",
   "source": [
    "surface_win_rates(men_matches).to_csv('../data/atp_win_rates.csv')\n",
    "surface_win_rates(women_matches).to_csv('../data/wta_win_rates.csv')"
   ],
   "id": "40091817e282bb81",
   "outputs": [],
   "execution_count": 220
  },
  {
   "metadata": {
    "ExecuteTime": {
     "end_time": "2025-05-19T12:49:06.193688Z",
     "start_time": "2025-05-19T12:49:06.188948Z"
    }
   },
   "cell_type": "code",
   "source": [
    "def get_rivalries(match_df):\n",
    "    player_opponents = pd.concat(\n",
    "        [\n",
    "            match_df[['winner_id','winner_name', 'surface','winner_rank', 'loser_name','loser_id']]\n",
    "            .rename(columns={'winner_name': 'player_name', 'winner_id':'player_id', 'winner_rank': 'rank', 'loser_name': 'opponent', 'loser_id': 'opponent_id'}),\n",
    "    \n",
    "            match_df[['loser_name','loser_id', 'surface', 'loser_rank', 'winner_name', 'winner_id']]\n",
    "            .rename(columns={'loser_name': 'player_name', 'loser_id':'player_id', 'loser_rank': 'rank', 'winner_name': 'opponent', 'winner_id':'opponent_id'})\n",
    "        ],\n",
    "        ignore_index=True\n",
    "    )\n",
    "\n",
    "    match_counts = (\n",
    "        player_opponents.groupby(['player_id','player_name', 'opponent', 'opponent_id','surface'])\n",
    "        .size()\n",
    "        .reset_index(name='match_count')\n",
    "    )\n",
    "    \n",
    "    top_opponents = (\n",
    "        match_counts.sort_values(['player_id','match_count'], ascending=[True, False])\n",
    "            .groupby(['player_id'])\n",
    "        .head(10)\n",
    "    )\n",
    "    return top_opponents"
   ],
   "id": "a9ec0c3a0cff52a7",
   "outputs": [],
   "execution_count": 8
  },
  {
   "metadata": {
    "ExecuteTime": {
     "end_time": "2025-05-19T12:49:18.263959Z",
     "start_time": "2025-05-19T12:49:18.052850Z"
    }
   },
   "cell_type": "code",
   "source": [
    "get_rivalries(men_matches).to_csv('../data/atp_rivalries2.csv')\n",
    "get_rivalries(women_matches).to_csv('../data/wta_rivalries2.csv')"
   ],
   "id": "3cf02eb057eb3030",
   "outputs": [],
   "execution_count": 9
  },
  {
   "metadata": {
    "ExecuteTime": {
     "end_time": "2025-05-18T15:28:50.964748Z",
     "start_time": "2025-05-18T15:28:50.837898Z"
    }
   },
   "cell_type": "code",
   "source": [
    "get_rivalries(men_matches).to_csv('../data/atp_rivalries.csv')\n",
    "get_rivalries(women_matches).to_csv('../data/wta_rivalries.csv')"
   ],
   "id": "5f9dbd94b1889860",
   "outputs": [],
   "execution_count": 217
  },
  {
   "metadata": {
    "ExecuteTime": {
     "end_time": "2025-05-18T18:24:05.785615Z",
     "start_time": "2025-05-18T18:24:05.780876Z"
    }
   },
   "cell_type": "code",
   "source": [
    "def player_performance(df):\n",
    "    round_order = ['RR', 'BR', 'ER', 'R128', 'R64', 'R32', 'R16', 'QF', 'SF', 'F']\n",
    "    round_dtype = CategoricalDtype(categories=round_order, ordered=True)\n",
    "\n",
    "    df['round'] = df['round'].astype(round_dtype)\n",
    "\n",
    "    rounds = df.groupby(['winner_id','winner_name', 'tourney_year', 'tourney_level', 'tourney_name'])[\n",
    "        'round'].max().reset_index()\n",
    "    rounds = rounds.groupby(['winner_id','winner_name', 'tourney_year', 'tourney_level', 'round'],\n",
    "                            observed=True).size().reset_index(name='match_count')\n",
    "    max_rank_points = df.groupby(['winner_id','winner_name', 'tourney_year']).agg(\n",
    "        best_rank=('winner_rank', 'min')).reset_index()\n",
    "    player_perf = pd.merge(rounds, max_rank_points, on=['winner_id','winner_name', 'tourney_year'])\n",
    "    player_perf['titles'] = player_perf.apply(lambda x: 0 if x['round'] != 'F' else x['match_count'], axis=1)\n",
    "    player_perf.rename(columns={'winner_id': 'player_id', 'winner_name':'player_name'}, inplace=True)\n",
    "    return player_perf"
   ],
   "id": "fb0ed061c26613d7",
   "outputs": [],
   "execution_count": 8
  },
  {
   "metadata": {
    "ExecuteTime": {
     "end_time": "2025-05-18T15:41:54.916287Z",
     "start_time": "2025-05-18T15:41:54.710704Z"
    }
   },
   "cell_type": "code",
   "source": [
    "player_performance(women_matches).to_csv('../data/wta_player_perf.csv')\n",
    "player_performance(men_matches).to_csv('../data/atp_player_perf.csv')"
   ],
   "id": "b7c601199633d38f",
   "outputs": [],
   "execution_count": 239
  },
  {
   "metadata": {
    "ExecuteTime": {
     "end_time": "2025-05-18T15:42:17.391279Z",
     "start_time": "2025-05-18T15:42:17.387911Z"
    }
   },
   "cell_type": "code",
   "source": [
    "def match_breakdown_surface_tourney(df, threshold=3):\n",
    "    count_sunburst = df.groupby(\n",
    "        ['winner_id', 'winner_name', 'surface', 'tourney_level', 'tourney_name']).size().reset_index(name='count')\n",
    "    count_sunburst.loc[count_sunburst['count'] <=threshold, 'tourney_name'] = 'Other'\n",
    "    return count_sunburst.groupby(['winner_id','winner_name', 'surface', 'tourney_level', 'tourney_name']).sum('count').reset_index().rename(columns={'winner_id': 'player_id', 'winner_name':'player_name'})"
   ],
   "id": "afed736ff3c353ec",
   "outputs": [],
   "execution_count": 240
  },
  {
   "metadata": {
    "ExecuteTime": {
     "end_time": "2025-05-18T15:42:56.302553Z",
     "start_time": "2025-05-18T15:42:56.242160Z"
    }
   },
   "cell_type": "code",
   "source": [
    "match_breakdown_surface_tourney(men_matches).to_csv('../data/atp_prop_surface.csv')\n",
    "match_breakdown_surface_tourney(women_matches).to_csv('../data/wta_prop_surface.csv')"
   ],
   "id": "c62b8d30fc4856d6",
   "outputs": [],
   "execution_count": 243
  },
  {
   "metadata": {
    "ExecuteTime": {
     "end_time": "2025-05-18T15:44:33.743032Z",
     "start_time": "2025-05-18T15:44:33.739361Z"
    }
   },
   "cell_type": "code",
   "source": [
    "def compute_player_stats(row):\n",
    "    row['ace_pct'] = row['w_ace'] / row['w_svpt'] * 100 if row['w_svpt'] > 0 else np.nan\n",
    "    row['1stIn_pct'] = row['w_1stIn'] / row['w_svpt'] * 100 if row['w_svpt'] > 0 else np.nan\n",
    "    row['1stWon_pct'] = row['w_1stWon'] / row['w_1stIn'] * 100 if row['w_1stIn'] > 0 else np.nan\n",
    "    row['2ndWon_pct'] = row['w_2ndWon'] / (row['w_svpt'] - row['w_1stIn'] - row['w_df']) * 100 if (row['w_svpt'] - row[\n",
    "        'w_1stIn'] - row['w_df']) > 0 else np.nan\n",
    "    row['df_pct'] = row['w_df'] / row['w_svpt'] * 100 if row['w_svpt'] > 0 else np.nan\n",
    "    row['bpSaved_pct'] = row['w_bpSaved'] / row['w_bpFaced'] * 100 if row['w_bpFaced'] > 0 else np.nan\n",
    "    return row\n",
    "\n",
    "def compute_all_stats(df, groupSurface=True):\n",
    "    df = df.apply(compute_player_stats, axis=1)\n",
    "    if groupSurface:\n",
    "        statsDf= df.groupby(['winner_id','winner_name', 'surface'])[[\"ace_pct\", '1stIn_pct', '1stWon_pct', '2ndWon_pct', 'df_pct', 'bpSaved_pct']].mean().reset_index()\n",
    "    else: \n",
    "        statsDf= df.groupby(['winner_id','winner_name'])[[\"ace_pct\", '1stIn_pct', '1stWon_pct', '2ndWon_pct', 'df_pct', 'bpSaved_pct']].mean().reset_index()\n",
    "    statsDf.rename(columns={'winner_id': 'player_id', 'winner_name':'player_name'}, inplace=True)\n",
    "    return statsDf"
   ],
   "id": "1d82560770ec5a1e",
   "outputs": [],
   "execution_count": 244
  },
  {
   "metadata": {
    "ExecuteTime": {
     "end_time": "2025-05-18T15:46:29.121180Z",
     "start_time": "2025-05-18T15:44:57.881848Z"
    }
   },
   "cell_type": "code",
   "source": [
    "menstats = compute_all_stats(men_matches)\n",
    "womenstats = compute_all_stats(women_matches)"
   ],
   "id": "9588cf27063b1288",
   "outputs": [],
   "execution_count": 246
  },
  {
   "metadata": {
    "ExecuteTime": {
     "end_time": "2025-05-18T15:47:33.044724Z",
     "start_time": "2025-05-18T15:47:33.010176Z"
    }
   },
   "cell_type": "code",
   "source": [
    "menstats.to_csv('../data/atp_player_stats.csv')\n",
    "womenstats.to_csv('../data/wta_player_stats.csv')"
   ],
   "id": "377914bac59502b6",
   "outputs": [],
   "execution_count": 249
  }
 ],
 "metadata": {
  "kernelspec": {
   "display_name": "Python 3",
   "language": "python",
   "name": "python3"
  },
  "language_info": {
   "codemirror_mode": {
    "name": "ipython",
    "version": 2
   },
   "file_extension": ".py",
   "mimetype": "text/x-python",
   "name": "python",
   "nbconvert_exporter": "python",
   "pygments_lexer": "ipython2",
   "version": "2.7.6"
  }
 },
 "nbformat": 4,
 "nbformat_minor": 5
}
